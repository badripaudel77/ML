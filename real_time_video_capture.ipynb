{
 "cells": [
  {
   "cell_type": "code",
   "execution_count": null,
   "metadata": {},
   "outputs": [],
   "source": [
    "import tensorflow as tf\n",
    "\n",
    "# for image detection\n",
    "import cv2\n",
    "\n",
    "# for plotting the image / graph\n",
    "import matplotlib.pyplot as plt \n",
    "\n",
    "# import deepface a pre-trained library for the face detection(emotions, gender, race, age etc approximately)\n",
    "from deepface import DeepFace\n",
    "\n",
    "faceCascade = cv2.CascadeClassifier(cv2.data.haarcascades + 'haarcascade_frontalface_default.xml')\n",
    "\n",
    "# access the camera\n",
    "cap = cv2.VideoCapture(1)\n",
    "\n",
    "if not cap.isOpened():\n",
    "    cap = cv2.VideoCapture(0)\n",
    "\n",
    "if not cap.isOpened():\n",
    "    raise IOError(\"cannot open your webcam\")\n",
    "    \n",
    "while True:\n",
    "    ret, frame = cap.read()\n",
    "    \n",
    "    result = DeepFace.analyze(frame, actions = ['emotion', 'gender'], enforce_detection = False)\n",
    "    \n",
    "    gray = cv2.cvtColor(frame, cv2.COLOR_BGR2GRAY)\n",
    "    \n",
    "    faces = faceCascade.detectMultiScale(gray,1.1,4)\n",
    "    \n",
    "    # detect  the face to draw rectangles\n",
    "    for(x,y,w,h) in faces :\n",
    "        cv2.rectangle(frame, (x,y), (x+w,y+h),(0,255,0),2)\n",
    "        \n",
    "    # show the RECTANGLE AROUND FACE\n",
    "    # plt.imshow(cv2.cvtColor(img, cv2.COLOR_BGR2RGB))\n",
    "\n",
    "    # lets put text just next to face\n",
    "    font = cv2.FONT_HERSHEY_SIMPLEX\n",
    "\n",
    "    cv2.putText(\n",
    "            frame, \n",
    "            result['dominant_emotion'] + \" \" + result['gender'],\n",
    "            (50,50),\n",
    "            font,\n",
    "            3,\n",
    "            (0,255,0),\n",
    "            2,\n",
    "            cv2.LINE_4);\n",
    "    cv2.imshow('Original Video', frame)\n",
    "\n",
    "    if cv2.waitKey(2) & 0xFF == ord('q'):\n",
    "        break\n",
    "        \n",
    "cap.release()\n",
    "cv2.destroyAllWindows()\n"
   ]
  },
  {
   "cell_type": "code",
   "execution_count": null,
   "metadata": {},
   "outputs": [],
   "source": []
  }
 ],
 "metadata": {
  "kernelspec": {
   "display_name": "Python 3",
   "language": "python",
   "name": "python3"
  },
  "language_info": {
   "codemirror_mode": {
    "name": "ipython",
    "version": 3
   },
   "file_extension": ".py",
   "mimetype": "text/x-python",
   "name": "python",
   "nbconvert_exporter": "python",
   "pygments_lexer": "ipython3",
   "version": "3.8.5"
  }
 },
 "nbformat": 4,
 "nbformat_minor": 4
}
